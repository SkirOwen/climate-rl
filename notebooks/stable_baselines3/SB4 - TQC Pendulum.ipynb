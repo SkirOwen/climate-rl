{
 "cells": [
  {
   "cell_type": "code",
   "execution_count": 1,
   "id": "622b765a-9dc0-4cb7-82af-47aa0568da4e",
   "metadata": {},
   "outputs": [],
   "source": [
    "import gymnasium as gym\n",
    "import matplotlib.pyplot as plt\n",
    "import numpy as np\n",
    "from matplotlib import animation\n",
    "from sb3_contrib import TQC"
   ]
  },
  {
   "cell_type": "code",
   "execution_count": 2,
   "id": "ef51c094-a216-4f57-a8ca-ae86652c65f0",
   "metadata": {},
   "outputs": [],
   "source": [
    "env = gym.make(\"Pendulum-v1\", render_mode=\"rgb_array\")"
   ]
  },
  {
   "cell_type": "raw",
   "id": "9db2a879-31ca-4a5e-8f74-44b812c9e322",
   "metadata": {},
   "source": [
    "policy_kwargs = dict(n_critics=2, n_quantiles=25)\n",
    "model = TQC(\"MlpPolicy\", env, top_quantiles_to_drop_per_net=2, verbose=1, policy_kwargs=policy_kwargs)\n",
    "model.learn(total_timesteps=10_000, log_interval=4)\n",
    "model.save(\"models/tqc_pendulum\")"
   ]
  },
  {
   "cell_type": "raw",
   "id": "c78dbd72-cf4b-4d36-aef8-5c5704effd15",
   "metadata": {},
   "source": [
    "del model"
   ]
  },
  {
   "cell_type": "code",
   "execution_count": 3,
   "id": "335de812-0315-48c2-8f4f-a5e99e8249c8",
   "metadata": {},
   "outputs": [],
   "source": [
    "def save_frames_as_gif(frames, path=\"./\", filename=\"gym_animation.gif\"):\n",
    "    plt.figure(\n",
    "        figsize=(frames[0].shape[1] / 72.0, frames[0].shape[0] / 72.0), dpi=72\n",
    "    )\n",
    "    patch = plt.imshow(frames[0])\n",
    "    plt.axis(\"off\")\n",
    "\n",
    "    def animate(i):\n",
    "        patch.set_data(frames[i])\n",
    "\n",
    "    anim = animation.FuncAnimation(\n",
    "        plt.gcf(), animate, frames=len(frames), interval=50\n",
    "    )\n",
    "    anim.save(path + filename, writer=\"imagemagick\", fps=60)"
   ]
  },
  {
   "cell_type": "code",
   "execution_count": 4,
   "id": "61a4f6bd-f044-4f03-8537-f13de602eb66",
   "metadata": {},
   "outputs": [
    {
     "data": {
      "image/png": "[encoded data removed]",
      "text/plain": [
       "<Figure size 500x500 with 1 Axes>"
      ]
     },
     "metadata": {},
     "output_type": "display_data"
    }
   ],
   "source": [
    "model = TQC.load(\"models/tqc_pendulum\")\n",
    "\n",
    "obs, _ = env.reset()\n",
    "frames = []\n",
    "for i in range(1000):\n",
    "    frames.append(env.render())\n",
    "    action, _states = model.predict(obs, deterministic=True)\n",
    "    obs, reward, terminated, truncated, info = env.step(action)\n",
    "    if terminated or truncated:\n",
    "        obs, _ = env.reset()\n",
    "\n",
    "save_frames_as_gif(frames, \"./gifs/\", \"tqc_pendulum.gif\")"
   ]
  },
  {
   "cell_type": "code",
   "execution_count": null,
   "id": "9c9dc0ff-847d-439e-9fa8-9146a7764730",
   "metadata": {},
   "outputs": [],
   "source": []
  }
 ],
 "metadata": {
  "kernelspec": {
   "display_name": "Python 3 (ipykernel)",
   "language": "python",
   "name": "python3"
  },
  "language_info": {
   "codemirror_mode": {
    "name": "ipython",
    "version": 3
   },
   "file_extension": ".py",
   "mimetype": "text/x-python",
   "name": "python",
   "nbconvert_exporter": "python",
   "pygments_lexer": "ipython3",
   "version": "3.11.6"
  }
 },
 "nbformat": 4,
 "nbformat_minor": 5
}
