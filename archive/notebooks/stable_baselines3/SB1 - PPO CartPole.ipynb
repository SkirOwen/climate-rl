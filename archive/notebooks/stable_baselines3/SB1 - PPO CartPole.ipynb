{
 "cells": [
  {
   "cell_type": "code",
   "execution_count": 1,
   "id": "84fd4056-d975-43bc-9642-2966ba8839e0",
   "metadata": {},
   "outputs": [],
   "source": [
    "import gymnasium as gym\n",
    "import matplotlib.pyplot as plt\n",
    "from matplotlib import animation\n",
    "from stable_baselines3 import PPO\n",
    "from stable_baselines3.common.env_util import make_vec_env"
   ]
  },
  {
   "cell_type": "code",
   "execution_count": 2,
   "id": "984766f6-cee3-47aa-8b8b-9552209f4283",
   "metadata": {},
   "outputs": [],
   "source": [
    "vec_env = make_vec_env(\"CartPole-v1\")"
   ]
  },
  {
   "cell_type": "raw",
   "id": "5ce63558-9721-4f42-b9cf-15fa0dd0a714",
   "metadata": {},
   "source": [
    "model = PPO(\"MlpPolicy\", vec_env, verbose=1)\n",
    "model.learn(total_timesteps=25000)\n",
    "model.save(\"models/ppo_cartpole\")"
   ]
  },
  {
   "cell_type": "raw",
   "id": "41a2be83-3e0d-41fa-9d2d-f9a4f6077204",
   "metadata": {},
   "source": [
    "del model"
   ]
  },
  {
   "cell_type": "code",
   "execution_count": 3,
   "id": "691cd840-c9a2-4e90-85ba-1ca21f4c038c",
   "metadata": {},
   "outputs": [],
   "source": [
    "def save_frames_as_gif(frames, path=\"./\", filename=\"gym_animation.gif\"):\n",
    "    plt.figure(\n",
    "        figsize=(frames[0].shape[1] / 72.0, frames[0].shape[0] / 72.0), dpi=72\n",
    "    )\n",
    "    patch = plt.imshow(frames[0])\n",
    "    plt.axis(\"off\")\n",
    "\n",
    "    def animate(i):\n",
    "        patch.set_data(frames[i])\n",
    "\n",
    "    anim = animation.FuncAnimation(\n",
    "        plt.gcf(), animate, frames=len(frames), interval=50\n",
    "    )\n",
    "    anim.save(path + filename, writer=\"imagemagick\", fps=60)"
   ]
  },
  {
   "cell_type": "code",
   "execution_count": 4,
   "id": "ee27e587-52e0-49c2-a775-34f0a65cee7f",
   "metadata": {},
   "outputs": [
    {
     "data": {
      "image/png": "[encoded data removed]",
      "text/plain": [
       "<Figure size 600x400 with 1 Axes>"
      ]
     },
     "metadata": {},
     "output_type": "display_data"
    }
   ],
   "source": [
    "model = PPO.load(\"models/ppo_cartpole\")\n",
    "\n",
    "obs = vec_env.reset()\n",
    "frames = []\n",
    "for t in range(100):\n",
    "    frames.append(vec_env.render(mode=\"rgb_array\"))\n",
    "    action, _states = model.predict(obs)\n",
    "    obs, rewards, dones, info = vec_env.step(action)\n",
    "\n",
    "save_frames_as_gif(frames, \"./gifs/\", \"ppo_cartpole.gif\")"
   ]
  },
  {
   "cell_type": "code",
   "execution_count": null,
   "id": "b03b9518-15b0-4715-8f63-f7bb6a070613",
   "metadata": {},
   "outputs": [],
   "source": []
  }
 ],
 "metadata": {
  "kernelspec": {
   "display_name": "Python 3 (ipykernel)",
   "language": "python",
   "name": "python3"
  },
  "language_info": {
   "codemirror_mode": {
    "name": "ipython",
    "version": 3
   },
   "file_extension": ".py",
   "mimetype": "text/x-python",
   "name": "python",
   "nbconvert_exporter": "python",
   "pygments_lexer": "ipython3",
   "version": "3.11.6"
  }
 },
 "nbformat": 4,
 "nbformat_minor": 5
}
