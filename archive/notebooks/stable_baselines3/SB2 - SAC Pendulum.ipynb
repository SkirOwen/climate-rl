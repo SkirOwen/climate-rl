{
 "cells": [
  {
   "cell_type": "code",
   "execution_count": 1,
   "id": "c7b98c11-6a3e-4920-afef-01b5581f4b47",
   "metadata": {},
   "outputs": [],
   "source": [
    "import gymnasium as gym\n",
    "import matplotlib.pyplot as plt\n",
    "from matplotlib import animation\n",
    "from stable_baselines3 import SAC"
   ]
  },
  {
   "cell_type": "code",
   "execution_count": 2,
   "id": "b86fb1b6-61a7-43b9-89b6-f5e2ab98ee39",
   "metadata": {},
   "outputs": [],
   "source": [
    "env = gym.make(\"Pendulum-v1\", render_mode=\"rgb_array\")"
   ]
  },
  {
   "cell_type": "raw",
   "id": "f7c7b538-9e00-4a9a-9458-3e112aba3d8f",
   "metadata": {},
   "source": [
    "model = SAC(\"MlpPolicy\", env, verbose=1)\n",
    "model.learn(total_timesteps=10000, log_interval=4)\n",
    "model.save(\"models/sac_pendulum\")"
   ]
  },
  {
   "cell_type": "raw",
   "id": "4cca851e-ded3-43fc-83d9-88c90eda6faa",
   "metadata": {},
   "source": [
    "del model"
   ]
  },
  {
   "cell_type": "code",
   "execution_count": 3,
   "id": "d49b034d-e604-420a-9436-772488137033",
   "metadata": {},
   "outputs": [],
   "source": [
    "def save_frames_as_gif(frames, path=\"./\", filename=\"gym_animation.gif\"):\n",
    "    plt.figure(\n",
    "        figsize=(frames[0].shape[1] / 72.0, frames[0].shape[0] / 72.0), dpi=72\n",
    "    )\n",
    "    patch = plt.imshow(frames[0])\n",
    "    plt.axis(\"off\")\n",
    "\n",
    "    def animate(i):\n",
    "        patch.set_data(frames[i])\n",
    "\n",
    "    anim = animation.FuncAnimation(\n",
    "        plt.gcf(), animate, frames=len(frames), interval=50\n",
    "    )\n",
    "    anim.save(path + filename, writer=\"imagemagick\", fps=60)"
   ]
  },
  {
   "cell_type": "code",
   "execution_count": 4,
   "id": "c7146360-1b1e-4a7e-9abe-63c2967f143f",
   "metadata": {},
   "outputs": [
    {
     "data": {
      "image/png": "[encoded data removed]",
      "text/plain": [
       "<Figure size 500x500 with 1 Axes>"
      ]
     },
     "metadata": {},
     "output_type": "display_data"
    }
   ],
   "source": [
    "model = SAC.load(\"models/sac_pendulum\")\n",
    "\n",
    "obs, info = env.reset()\n",
    "frames = []\n",
    "for i in range(1000):\n",
    "    frames.append(env.render())\n",
    "    action, _states = model.predict(obs, deterministic=True)\n",
    "    obs, reward, terminated, truncated, info = env.step(action)\n",
    "\n",
    "save_frames_as_gif(frames, \"./gifs/\", \"sac_pendulum.gif\")"
   ]
  },
  {
   "cell_type": "code",
   "execution_count": null,
   "id": "85bb327e-24d9-4a7b-9585-29a3b274e82a",
   "metadata": {},
   "outputs": [],
   "source": []
  }
 ],
 "metadata": {
  "kernelspec": {
   "display_name": "Python 3 (ipykernel)",
   "language": "python",
   "name": "python3"
  },
  "language_info": {
   "codemirror_mode": {
    "name": "ipython",
    "version": 3
   },
   "file_extension": ".py",
   "mimetype": "text/x-python",
   "name": "python",
   "nbconvert_exporter": "python",
   "pygments_lexer": "ipython3",
   "version": "3.11.6"
  }
 },
 "nbformat": 4,
 "nbformat_minor": 5
}
