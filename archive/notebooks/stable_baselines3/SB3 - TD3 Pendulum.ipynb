{
 "cells": [
  {
   "cell_type": "code",
   "execution_count": 1,
   "id": "cdb01793-d59c-48d2-b67f-05e526ce5e40",
   "metadata": {},
   "outputs": [],
   "source": [
    "import pickle\n",
    "\n",
    "import gymnasium as gym\n",
    "import matplotlib.pyplot as plt\n",
    "import numpy as np\n",
    "from matplotlib import animation\n",
    "from stable_baselines3 import TD3\n",
    "from stable_baselines3.common.noise import (\n",
    "    NormalActionNoise,\n",
    "    OrnsteinUhlenbeckActionNoise,\n",
    ")"
   ]
  },
  {
   "cell_type": "code",
   "execution_count": 2,
   "id": "53e836dc-4a5a-4ef8-9fda-1cec87b79fc2",
   "metadata": {},
   "outputs": [],
   "source": [
    "env = gym.make(\"Pendulum-v1\", render_mode=\"rgb_array\")"
   ]
  },
  {
   "cell_type": "code",
   "execution_count": 3,
   "id": "a33fc6fc-8c9b-4be5-9dbd-76f69519d2ab",
   "metadata": {},
   "outputs": [],
   "source": [
    "n_actions = env.action_space.shape[-1]\n",
    "action_noise = NormalActionNoise(\n",
    "    mean=np.zeros(n_actions), sigma=0.1 * np.ones(n_actions)\n",
    ")"
   ]
  },
  {
   "cell_type": "raw",
   "id": "5be447c3-6629-4baf-9b88-e1d38b1503bf",
   "metadata": {},
   "source": [
    "model = TD3(\"MlpPolicy\", env, action_noise=action_noise, verbose=1)\n",
    "model.learn(total_timesteps=10000, log_interval=10)\n",
    "model.save(\"models/td3_pendulum\")\n",
    "\n",
    "vec_env = model.get_env()"
   ]
  },
  {
   "cell_type": "raw",
   "id": "4047a8c6-9322-4917-9702-4a92d633fe8e",
   "metadata": {},
   "source": [
    "with open('models/td3_env.pkl', 'wb') as handle:\n",
    "    pickle.dump(vec_env, handle, protocol=pickle.HIGHEST_PROTOCOL)"
   ]
  },
  {
   "cell_type": "raw",
   "id": "92d20786-1874-4799-a631-5954bb6cea2b",
   "metadata": {},
   "source": [
    "del model"
   ]
  },
  {
   "cell_type": "code",
   "execution_count": 4,
   "id": "6bfc0cef-5fb2-4830-abef-8079b44f4c85",
   "metadata": {},
   "outputs": [],
   "source": [
    "def save_frames_as_gif(frames, path=\"./\", filename=\"gym_animation.gif\"):\n",
    "    plt.figure(\n",
    "        figsize=(frames[0].shape[1] / 72.0, frames[0].shape[0] / 72.0), dpi=72\n",
    "    )\n",
    "    patch = plt.imshow(frames[0])\n",
    "    plt.axis(\"off\")\n",
    "\n",
    "    def animate(i):\n",
    "        patch.set_data(frames[i])\n",
    "\n",
    "    anim = animation.FuncAnimation(\n",
    "        plt.gcf(), animate, frames=len(frames), interval=50\n",
    "    )\n",
    "    anim.save(path + filename, writer=\"imagemagick\", fps=60)"
   ]
  },
  {
   "cell_type": "code",
   "execution_count": 5,
   "id": "1b67bd99-d55c-4a87-9b84-2ea8b8b243ca",
   "metadata": {},
   "outputs": [
    {
     "data": {
      "image/png": "[encoded data removed]",
      "text/plain": [
       "<Figure size 500x500 with 1 Axes>"
      ]
     },
     "metadata": {},
     "output_type": "display_data"
    }
   ],
   "source": [
    "model = TD3.load(\"models/td3_pendulum\")\n",
    "\n",
    "with open(\"models/td3_env.pkl\", \"rb\") as handle:\n",
    "    vec_env = pickle.load(handle)\n",
    "\n",
    "obs = vec_env.reset()\n",
    "frames = []\n",
    "for t in range(100):\n",
    "    frames.append(vec_env.render())\n",
    "    action, _states = model.predict(obs)\n",
    "    obs, rewards, dones, info = vec_env.step(action)\n",
    "\n",
    "save_frames_as_gif(frames, \"./gifs/\", \"td3_pendulum.gif\")"
   ]
  },
  {
   "cell_type": "code",
   "execution_count": null,
   "id": "22129b9c-8791-49f0-88c8-eb240fe6f01b",
   "metadata": {},
   "outputs": [],
   "source": []
  }
 ],
 "metadata": {
  "kernelspec": {
   "display_name": "Python 3 (ipykernel)",
   "language": "python",
   "name": "python3"
  },
  "language_info": {
   "codemirror_mode": {
    "name": "ipython",
    "version": 3
   },
   "file_extension": ".py",
   "mimetype": "text/x-python",
   "name": "python",
   "nbconvert_exporter": "python",
   "pygments_lexer": "ipython3",
   "version": "3.11.6"
  }
 },
 "nbformat": 4,
 "nbformat_minor": 5
}
